version https://git-lfs.github.com/spec/v1
oid sha256:ec596526f5af8edb3ffdfd243d4ec49c53252df0eb52471c8abcfc05ff910ff0
size 1334043
