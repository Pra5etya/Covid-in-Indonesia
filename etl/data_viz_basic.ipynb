version https://git-lfs.github.com/spec/v1
oid sha256:ac4d379fa2f02f61a8018c55670f4a4f626953effe913783a8d8c687f2d6f494
size 1407496
