version https://git-lfs.github.com/spec/v1
oid sha256:16cb0d3125f416499acd68a7208b0bbdeb70e1cbeeabd36525b0ffcb37a9685e
size 1407453
